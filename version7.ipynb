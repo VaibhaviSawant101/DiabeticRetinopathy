{
 "cells": [
  {
   "cell_type": "code",
   "execution_count": 1,
   "id": "1f625ac3",
   "metadata": {},
   "outputs": [],
   "source": [
    "import matplotlib.pyplot as plt\n",
    "import numpy as np\n",
    "import cv2\n",
    "import os\n",
    "import PIL\n",
    "import tensorflow as tf\n",
    "from sklearn.utils import shuffle\n",
    "import seaborn as sns\n",
    "import pandas as pd\n",
    "from sklearn.model_selection import train_test_split\n",
    "\n",
    "from tensorflow.keras import models, layers\n",
    "from sklearn.metrics import confusion_matrix, classification_report"
   ]
  },
  {
   "cell_type": "code",
   "execution_count": 2,
   "id": "63d45d86",
   "metadata": {},
   "outputs": [],
   "source": [
    "import pathlib\n",
    "data_dir =pathlib.Path(\"dataset\")"
   ]
  },
  {
   "cell_type": "code",
   "execution_count": 3,
   "id": "95800815",
   "metadata": {},
   "outputs": [
    {
     "data": {
      "text/plain": [
       "WindowsPath('dataset')"
      ]
     },
     "execution_count": 3,
     "metadata": {},
     "output_type": "execute_result"
    }
   ],
   "source": [
    "data_dir"
   ]
  },
  {
   "cell_type": "code",
   "execution_count": 4,
   "id": "a124a249",
   "metadata": {},
   "outputs": [],
   "source": [
    "retina_images_dict = {\n",
    "    'mild' : list(data_dir.glob('Mild/*')),\n",
    "    'moderate' : list(data_dir.glob('Moderate/*')),\n",
    "    'no_dr' : list(data_dir.glob('No_DR/*')),\n",
    "    'proliferate_dr' : list(data_dir.glob('Proliferate_DR/*')),\n",
    "    'severe' : list(data_dir.glob('Severe/*')),\n",
    "}"
   ]
  },
  {
   "cell_type": "code",
   "execution_count": 5,
   "id": "58298211",
   "metadata": {},
   "outputs": [],
   "source": [
    "retina_labels_dict = {\n",
    "    'mild' : 0,\n",
    "    'moderate' : 1,\n",
    "    'no_dr' : 2,\n",
    "    'proliferate_dr' : 3,\n",
    "    'severe' : 4\n",
    "}"
   ]
  },
  {
   "cell_type": "code",
   "execution_count": 6,
   "id": "a8440b32",
   "metadata": {},
   "outputs": [],
   "source": [
    "x, y = [], []\n",
    "for disease_level, images in retina_images_dict.items():\n",
    "    for image in images:\n",
    "        img = cv2.imread(str(image))\n",
    "        x.append(img)\n",
    "        y.append(retina_labels_dict[disease_level])"
   ]
  },
  {
   "cell_type": "code",
   "execution_count": 7,
   "id": "5098fcb3",
   "metadata": {},
   "outputs": [],
   "source": [
    "x = np.array(x)\n",
    "y = np.array(y)"
   ]
  },
  {
   "cell_type": "code",
   "execution_count": 8,
   "id": "aa29bc26",
   "metadata": {},
   "outputs": [],
   "source": [
    "xtrain, xtest, ytrain, ytest = train_test_split(x, y, test_size=0.2, random_state=879)"
   ]
  },
  {
   "cell_type": "code",
   "execution_count": 9,
   "id": "73ecc369",
   "metadata": {},
   "outputs": [],
   "source": [
    "xval, xtest, yval, ytest = train_test_split(xtest, ytest, test_size=0.5, random_state=879)"
   ]
  },
  {
   "cell_type": "code",
   "execution_count": 10,
   "id": "0fc5f999",
   "metadata": {},
   "outputs": [],
   "source": [
    "img_size = 224\n",
    "b_size = 32\n",
    "channels = 3\n",
    "epoch = 2"
   ]
  },
  {
   "cell_type": "code",
   "execution_count": 11,
   "id": "fb642914",
   "metadata": {},
   "outputs": [],
   "source": [
    "#scaling\n",
    "resize_rescale = tf.keras.Sequential([\n",
    "    #all the image have the same size then why to use??\n",
    "    #when user input new image of different size then useful\n",
    "    layers.experimental.preprocessing.Resizing(img_size, img_size),\n",
    "    layers.experimental.preprocessing.Rescaling(1.0/255),\n",
    "])"
   ]
  },
  {
   "cell_type": "code",
   "execution_count": 24,
   "id": "88cc2326",
   "metadata": {},
   "outputs": [],
   "source": [
    "from tensorflow.keras.models import Sequential\n",
    "from tensorflow.keras.layers import Dense, GlobalAveragePooling2D, Dropout\n",
    "from tensorflow.keras.callbacks import EarlyStopping, ReduceLROnPlateau, ModelCheckpoint\n",
    "from tensorflow.keras.layers.experimental.preprocessing import Rescaling\n",
    "from tensorflow.keras.losses import BinaryCrossentropy\n",
    "from tensorflow.keras.applications import DenseNet201\n",
    "from tensorflow.keras.optimizers import Adam\n",
    "from tensorflow.keras.utils import plot_model\n",
    "import math"
   ]
  },
  {
   "cell_type": "code",
   "execution_count": 13,
   "id": "5c8a0759",
   "metadata": {},
   "outputs": [
    {
     "name": "stdout",
     "output_type": "stream",
     "text": [
      "Model: \"base_densenet_model\"\n",
      "_________________________________________________________________\n",
      " Layer (type)                Output Shape              Param #   \n",
      "=================================================================\n",
      " sequential (Sequential)     (32, 224, 224, 3)         0         \n",
      "                                                                 \n",
      " densenet201 (Functional)    (None, 7, 7, 1920)        18321984  \n",
      "                                                                 \n",
      "=================================================================\n",
      "Total params: 18,321,984\n",
      "Trainable params: 0\n",
      "Non-trainable params: 18,321,984\n",
      "_________________________________________________________________\n"
     ]
    }
   ],
   "source": [
    "i_shape = (b_size, img_size, img_size, channels)\n",
    "base_densenet_model = Sequential([\n",
    "    resize_rescale,\n",
    "    DenseNet201(input_shape=(img_size, img_size, channels), weights=\"imagenet\", include_top=False)\n",
    "], name=\"base_densenet_model\")\n",
    "\n",
    "base_densenet_model.trainable = False\n",
    "base_densenet_model.build(i_shape)\n",
    "base_densenet_model.summary()\n"
   ]
  },
  {
   "cell_type": "code",
   "execution_count": 14,
   "id": "e66218c8",
   "metadata": {},
   "outputs": [
    {
     "name": "stdout",
     "output_type": "stream",
     "text": [
      "(32, 224, 224, 3)\n"
     ]
    }
   ],
   "source": [
    "i_shape = (b_size, img_size, img_size, channels)\n",
    "print(i_shape)"
   ]
  },
  {
   "cell_type": "code",
   "execution_count": 15,
   "id": "178a536f",
   "metadata": {},
   "outputs": [],
   "source": [
    "custom_densenet_model = Sequential([\n",
    "    base_densenet_model,\n",
    "    GlobalAveragePooling2D(),\n",
    "    Dropout(0.2),\n",
    "    Dense(units=1, activation=\"softmax\")\n",
    "], name = \"custom_densenet_model\")\n",
    "\n",
    "custom_densenet_model.build(i_shape)"
   ]
  },
  {
   "cell_type": "code",
   "execution_count": 16,
   "id": "d6ce0407",
   "metadata": {},
   "outputs": [
    {
     "name": "stdout",
     "output_type": "stream",
     "text": [
      "Model: \"custom_densenet_model\"\n",
      "_________________________________________________________________\n",
      " Layer (type)                Output Shape              Param #   \n",
      "=================================================================\n",
      " base_densenet_model (Sequen  (32, 7, 7, 1920)         18321984  \n",
      " tial)                                                           \n",
      "                                                                 \n",
      " global_average_pooling2d (G  (32, 1920)               0         \n",
      " lobalAveragePooling2D)                                          \n",
      "                                                                 \n",
      " dropout (Dropout)           (32, 1920)                0         \n",
      "                                                                 \n",
      " dense (Dense)               (32, 1)                   1921      \n",
      "                                                                 \n",
      "=================================================================\n",
      "Total params: 18,323,905\n",
      "Trainable params: 1,921\n",
      "Non-trainable params: 18,321,984\n",
      "_________________________________________________________________\n"
     ]
    }
   ],
   "source": [
    "custom_densenet_model.summary()"
   ]
  },
  {
   "cell_type": "code",
   "execution_count": 25,
   "id": "a4c02d29",
   "metadata": {},
   "outputs": [],
   "source": [
    "custom_densenet_model.compile(optimizer='adam',\n",
    "             loss = tf.keras.losses.BinaryCrossentropy(from_logits=False),\n",
    "             metrics=['accuracy'])"
   ]
  },
  {
   "cell_type": "code",
   "execution_count": 18,
   "id": "64304e4f",
   "metadata": {},
   "outputs": [],
   "source": [
    "early = EarlyStopping(monitor=\"val_loss\",\n",
    "                     patience=math.floor(epoch*0.1))\n",
    "\n",
    "learning_rate_reduction = ReduceLROnPlateau(monitor=\"val_loss\",\n",
    "                                           patience=2,\n",
    "                                           verbose=1,\n",
    "                                           factor=0.3,\n",
    "                                           min_lr=0.000001)\n",
    "modelcheck = ModelCheckpoint('best_model.hdf5', monitor='val_accuracy', verbose=1, save_best_only=True, mode='max')"
   ]
  },
  {
   "cell_type": "code",
   "execution_count": null,
   "id": "006f8e7e",
   "metadata": {},
   "outputs": [
    {
     "name": "stdout",
     "output_type": "stream",
     "text": [
      "Epoch 1/2\n",
      "740/776 [===========================>..] - ETA: 3:08 - loss: -156.1308 - accuracy: 0.2019"
     ]
    }
   ],
   "source": [
    "history = custom_densenet_model.fit(xtrain, ytrain, \n",
    "          epochs= epoch, batch_size = b_size,\n",
    "         verbose=1, validation_data=(xval, yval))"
   ]
  }
 ],
 "metadata": {
  "kernelspec": {
   "display_name": "Python 3 (ipykernel)",
   "language": "python",
   "name": "python3"
  },
  "language_info": {
   "codemirror_mode": {
    "name": "ipython",
    "version": 3
   },
   "file_extension": ".py",
   "mimetype": "text/x-python",
   "name": "python",
   "nbconvert_exporter": "python",
   "pygments_lexer": "ipython3",
   "version": "3.9.7"
  }
 },
 "nbformat": 4,
 "nbformat_minor": 5
}
