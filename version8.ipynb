{
 "cells": [
  {
   "cell_type": "code",
   "execution_count": 1,
   "id": "ac51e0bb",
   "metadata": {},
   "outputs": [],
   "source": [
    "import matplotlib.pyplot as plt\n",
    "import numpy as np\n",
    "import cv2\n",
    "import os\n",
    "import PIL\n",
    "import tensorflow as tf\n",
    "from sklearn.utils import shuffle\n",
    "import seaborn as sns\n",
    "import pandas as pd\n",
    "from sklearn.model_selection import train_test_split\n",
    "\n",
    "from tensorflow.keras import models, layers\n",
    "from sklearn.metrics import confusion_matrix, classification_report\n",
    "\n",
    "from tensorflow.keras.models import Sequential\n",
    "from tensorflow.keras import layers\n",
    "from tensorflow.keras import Model"
   ]
  },
  {
   "cell_type": "code",
   "execution_count": 2,
   "id": "0d645013",
   "metadata": {},
   "outputs": [],
   "source": [
    "import pathlib\n",
    "data_dir =pathlib.Path(\"dataset\")"
   ]
  },
  {
   "cell_type": "code",
   "execution_count": 3,
   "id": "a24c832e",
   "metadata": {},
   "outputs": [
    {
     "data": {
      "text/plain": [
       "WindowsPath('dataset')"
      ]
     },
     "execution_count": 3,
     "metadata": {},
     "output_type": "execute_result"
    }
   ],
   "source": [
    "data_dir"
   ]
  },
  {
   "cell_type": "code",
   "execution_count": 4,
   "id": "231daca0",
   "metadata": {},
   "outputs": [],
   "source": [
    "retina_images_dict = {\n",
    "    'mild' : list(data_dir.glob('Mild/*')),\n",
    "    'moderate' : list(data_dir.glob('Moderate/*')),\n",
    "    'no_dr' : list(data_dir.glob('No_DR/*')),\n",
    "    'proliferate_dr' : list(data_dir.glob('Proliferate_DR/*')),\n",
    "    'severe' : list(data_dir.glob('Severe/*')),\n",
    "}"
   ]
  },
  {
   "cell_type": "code",
   "execution_count": 5,
   "id": "54b9b9eb",
   "metadata": {},
   "outputs": [],
   "source": [
    "retina_labels_dict = {\n",
    "    'mild' : 0,\n",
    "    'moderate' : 1,\n",
    "    'no_dr' : 2,\n",
    "    'proliferate_dr' : 3,\n",
    "    'severe' : 4\n",
    "}"
   ]
  },
  {
   "cell_type": "code",
   "execution_count": 6,
   "id": "2ad3266b",
   "metadata": {},
   "outputs": [],
   "source": [
    "x, y = [], []\n",
    "for disease_level, images in retina_images_dict.items():\n",
    "    for image in images:\n",
    "        img = cv2.imread(str(image))\n",
    "        x.append(img)\n",
    "        y.append(retina_labels_dict[disease_level])"
   ]
  },
  {
   "cell_type": "code",
   "execution_count": 7,
   "id": "6df59802",
   "metadata": {},
   "outputs": [],
   "source": [
    "x = np.array(x)\n",
    "y = np.array(y)"
   ]
  },
  {
   "cell_type": "code",
   "execution_count": 8,
   "id": "c69989c2",
   "metadata": {},
   "outputs": [],
   "source": [
    "xtrain, xtest, ytrain, ytest = train_test_split(x, y, test_size=0.2, random_state=879)"
   ]
  },
  {
   "cell_type": "code",
   "execution_count": 9,
   "id": "da277e34",
   "metadata": {},
   "outputs": [],
   "source": [
    "xval, xtest, yval, ytest = train_test_split(xtest, ytest, test_size=0.5, random_state=879)"
   ]
  },
  {
   "cell_type": "code",
   "execution_count": 10,
   "id": "cfd54e74",
   "metadata": {},
   "outputs": [],
   "source": [
    "img_size = 224\n",
    "b_size = 32\n",
    "channels = 3\n",
    "epoch = 2"
   ]
  },
  {
   "cell_type": "code",
   "execution_count": 11,
   "id": "81052072",
   "metadata": {},
   "outputs": [],
   "source": [
    "#scaling\n",
    "resize_rescale = tf.keras.Sequential([\n",
    "    #all the image have the same size then why to use??\n",
    "    #when user input new image of different size then useful\n",
    "    layers.experimental.preprocessing.Resizing(img_size, img_size),\n",
    "    layers.experimental.preprocessing.Rescaling(1.0/255),\n",
    "])"
   ]
  },
  {
   "cell_type": "code",
   "execution_count": 12,
   "id": "87554e22",
   "metadata": {},
   "outputs": [],
   "source": [
    "from tensorflow.keras.applications.inception_v3 import InceptionV3"
   ]
  },
  {
   "cell_type": "code",
   "execution_count": 13,
   "id": "119faa0f",
   "metadata": {},
   "outputs": [],
   "source": [
    "pre_trained_model = InceptionV3(input_shape =(img_size, img_size, channels),\n",
    "                               include_top=False,\n",
    "                               weights='imagenet')"
   ]
  },
  {
   "cell_type": "code",
   "execution_count": 14,
   "id": "64ee89b5",
   "metadata": {},
   "outputs": [],
   "source": [
    "for layer in pre_trained_model.layers:\n",
    "    layer.trainable = False"
   ]
  },
  {
   "cell_type": "code",
   "execution_count": 15,
   "id": "fd8e94e5",
   "metadata": {},
   "outputs": [],
   "source": [
    "from tensorflow.keras.optimizers import RMSprop\n",
    "\n",
    "x = layers.Flatten()(pre_trained_model.output)\n",
    "x = layers.Dense(15000, activation='relu')(x)\n",
    "x = layers.Dropout(0.2)(x)\n",
    "x = layers.Dense(5000, activation='relu')(x)\n",
    "x = layers.Dropout(0.2)(x)\n",
    "x = layers.Dense(1000, activation='relu')(x)\n",
    "x = layers.Dropout(0.2)(x)\n",
    "x = layers.Dense(5, activation=\"softmax\")(x)"
   ]
  },
  {
   "cell_type": "code",
   "execution_count": 16,
   "id": "7538e13b",
   "metadata": {},
   "outputs": [
    {
     "name": "stderr",
     "output_type": "stream",
     "text": [
      "WARNING:absl:`lr` is deprecated, please use `learning_rate` instead, or use the legacy optimizer, e.g.,tf.keras.optimizers.legacy.RMSprop.\n"
     ]
    }
   ],
   "source": [
    "model = Model(pre_trained_model.input, x)\n",
    "\n",
    "model.compile(optimizer = RMSprop(lr=0.0001),\n",
    "             loss =tf.keras.losses.SparseCategoricalCrossentropy(from_logits=False),\n",
    "             metrics = ['accuracy'])"
   ]
  },
  {
   "cell_type": "code",
   "execution_count": 17,
   "id": "0541f99e",
   "metadata": {},
   "outputs": [
    {
     "ename": "TypeError",
     "evalue": "fit_generator() got an unexpected keyword argument 'batch_size'",
     "output_type": "error",
     "traceback": [
      "\u001b[1;31m---------------------------------------------------------------------------\u001b[0m",
      "\u001b[1;31mTypeError\u001b[0m                                 Traceback (most recent call last)",
      "Input \u001b[1;32mIn [17]\u001b[0m, in \u001b[0;36m<cell line: 1>\u001b[1;34m()\u001b[0m\n\u001b[1;32m----> 1\u001b[0m history \u001b[38;5;241m=\u001b[39m \u001b[43mmodel\u001b[49m\u001b[38;5;241;43m.\u001b[39;49m\u001b[43mfit_generator\u001b[49m\u001b[43m(\u001b[49m\n\u001b[0;32m      2\u001b[0m \u001b[43m    \u001b[49m\u001b[43mxtrain\u001b[49m\u001b[43m,\u001b[49m\u001b[43m \u001b[49m\u001b[43mytrain\u001b[49m\u001b[43m,\u001b[49m\n\u001b[0;32m      3\u001b[0m \u001b[43m    \u001b[49m\u001b[43mvalidation_data\u001b[49m\u001b[43m \u001b[49m\u001b[38;5;241;43m=\u001b[39;49m\u001b[43m \u001b[49m\u001b[43m(\u001b[49m\u001b[43mxval\u001b[49m\u001b[43m,\u001b[49m\u001b[43m \u001b[49m\u001b[43myval\u001b[49m\u001b[43m)\u001b[49m\u001b[43m,\u001b[49m\n\u001b[0;32m      4\u001b[0m \u001b[43m    \u001b[49m\u001b[43mepochs\u001b[49m\u001b[43m \u001b[49m\u001b[38;5;241;43m=\u001b[39;49m\u001b[43m \u001b[49m\u001b[43mepoch\u001b[49m\u001b[43m,\u001b[49m\n\u001b[0;32m      5\u001b[0m \u001b[43m    \u001b[49m\u001b[43mverbose\u001b[49m\u001b[43m \u001b[49m\u001b[38;5;241;43m=\u001b[39;49m\u001b[43m \u001b[49m\u001b[38;5;241;43m2\u001b[39;49m\u001b[43m,\u001b[49m\n\u001b[0;32m      6\u001b[0m \u001b[43m    \u001b[49m\u001b[43mbatch_size\u001b[49m\u001b[43m \u001b[49m\u001b[38;5;241;43m=\u001b[39;49m\u001b[43m \u001b[49m\u001b[43mb_size\u001b[49m\n\u001b[0;32m      7\u001b[0m \u001b[43m)\u001b[49m\n",
      "\u001b[1;31mTypeError\u001b[0m: fit_generator() got an unexpected keyword argument 'batch_size'"
     ]
    }
   ],
   "source": [
    "history = model.fit_generator(\n",
    "    xtrain, ytrain,\n",
    "    validation_data = (xval, yval),\n",
    "    epochs = epoch,\n",
    "    verbose = 2,\n",
    "    batch_size = b_size\n",
    ")"
   ]
  }
 ],
 "metadata": {
  "kernelspec": {
   "display_name": "Python 3 (ipykernel)",
   "language": "python",
   "name": "python3"
  },
  "language_info": {
   "codemirror_mode": {
    "name": "ipython",
    "version": 3
   },
   "file_extension": ".py",
   "mimetype": "text/x-python",
   "name": "python",
   "nbconvert_exporter": "python",
   "pygments_lexer": "ipython3",
   "version": "3.9.7"
  }
 },
 "nbformat": 4,
 "nbformat_minor": 5
}
